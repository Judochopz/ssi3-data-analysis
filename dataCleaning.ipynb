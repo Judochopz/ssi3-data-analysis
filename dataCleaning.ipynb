{
 "cells": [
  {
   "cell_type": "markdown",
   "metadata": {},
   "source": [
    "### Prelude:"
   ]
  },
  {
   "cell_type": "code",
   "execution_count": 1,
   "metadata": {},
   "outputs": [
    {
     "name": "stderr",
     "output_type": "stream",
     "text": [
      "/var/folders/ys/2yh_kw0938l96bcd357qq56w0000gn/T/ipykernel_74099/1662815981.py:2: DeprecationWarning: \n",
      "Pyarrow will become a required dependency of pandas in the next major release of pandas (pandas 3.0),\n",
      "(to allow more performant data types, such as the Arrow string type, and better interoperability with other libraries)\n",
      "but was not found to be installed on your system.\n",
      "If this would cause problems for you,\n",
      "please provide us feedback at https://github.com/pandas-dev/pandas/issues/54466\n",
      "        \n",
      "  import pandas as pd\n"
     ]
    }
   ],
   "source": [
    "import numpy as np\n",
    "import pandas as pd"
   ]
  },
  {
   "cell_type": "code",
   "execution_count": 2,
   "metadata": {},
   "outputs": [],
   "source": [
    "data = pd.read_csv(\"./../Datasets/SOSC 13300 Severson and Coleman Extension Survey_April 22, 2024_09.12.csv\")"
   ]
  },
  {
   "cell_type": "markdown",
   "metadata": {},
   "source": [
    "### Data Cleaning:"
   ]
  },
  {
   "cell_type": "code",
   "execution_count": 3,
   "metadata": {},
   "outputs": [],
   "source": [
    "#drop rows where survey was not completed\n",
    "dataClean = data[data['Finished'] == 'True']\n",
    "\n",
    "#Drop Unnecessary Columns\n",
    "dataClean = data.drop(columns=['StartDate', 'EndDate', 'Status', 'IPAddress', 'Progress', 'RecordedDate', 'ResponseId', 'RecipientLastName',\n",
    "                               'RecipientFirstName', 'RecipientEmail', 'ExternalReference', 'LocationLatitude', 'LocationLongitude', 'DistributionChannel', \n",
    "                               'InfCons', 'participantId', 'assignmentId', 'projectId'])\n",
    "\n",
    "#dropping first and 2nd rows\n",
    "dataClean = dataClean.drop([0, 1]).reset_index()\n",
    "\n",
    "#drop rows where participant failed attention check\n",
    "dataClean = dataClean[dataClean['Attention_Check_1'] == 'Strongly like']\n",
    "dataClean = dataClean[dataClean['Attention_Check_2'] == '1,3']"
   ]
  },
  {
   "cell_type": "code",
   "execution_count": 4,
   "metadata": {},
   "outputs": [],
   "source": [
    "#making complete party_id number (merging party_id columns)\n",
    "\n",
    "#making columns into integers\n",
    "dataClean['QID74'] = dataClean['QID74'].replace(float('nan'), 0).astype(int)\n",
    "dataClean['party_id.1'] = dataClean['party_id.1'].replace(float('nan'), 0).astype(int)\n",
    "dataClean['party_id.2'] = dataClean['party_id.2'].replace(float('nan'), 0).astype(int)\n",
    "\n",
    "dataClean['party_id_merged'] = dataClean['QID74'] + dataClean['party_id.1'] + dataClean['party_id.2']"
   ]
  },
  {
   "cell_type": "code",
   "execution_count": 5,
   "metadata": {},
   "outputs": [],
   "source": [
    "#making average climate support column (mean of Gas Tax, Carbon Tax, and Renewable Energy)\n",
    "columns = ['GasTax', 'CarbTax', 'Treaty', 'RegCarb', 'GasTax_after', 'CarbTax_after', 'Treaty_after', 'RegCarb_after']\n",
    "for i in columns:\n",
    "    #ASSUMING 0 MEANS PREFER NOT TO ANSWER\n",
    "    dataClean[i] = dataClean[i].replace(float('nan'), 0).astype(int).replace(0, np.nan)\n",
    "\n",
    "\n",
    "dataClean['mean_climate_support_before'] = dataClean[['GasTax', 'CarbTax', 'Treaty', 'RegCarb']].mean(axis=1)\n",
    "dataClean['mean_climate_support_after'] = dataClean[['GasTax_after', 'CarbTax_after', 'Treaty_after', 'RegCarb_after']].mean(axis=1)"
   ]
  },
  {
   "cell_type": "code",
   "execution_count": 6,
   "metadata": {},
   "outputs": [],
   "source": [
    "#save cleaned data\n",
    "dataClean.to_csv('./../Datasets/cleaned_data.csv', index=False)"
   ]
  },
  {
   "cell_type": "markdown",
   "metadata": {},
   "source": [
    "### Questions about Data Collection:\n",
    "- What is the 0 value for the climate policy choices (no opinion?)\n",
    "- What are the different treatment effects/what do they correspond to?"
   ]
  }
 ],
 "metadata": {
  "kernelspec": {
   "display_name": "Python 3",
   "language": "python",
   "name": "python3"
  },
  "language_info": {
   "codemirror_mode": {
    "name": "ipython",
    "version": 3
   },
   "file_extension": ".py",
   "mimetype": "text/x-python",
   "name": "python",
   "nbconvert_exporter": "python",
   "pygments_lexer": "ipython3",
   "version": "3.9.6"
  }
 },
 "nbformat": 4,
 "nbformat_minor": 2
}
