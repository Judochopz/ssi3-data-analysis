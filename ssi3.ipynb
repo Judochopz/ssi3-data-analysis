{
 "cells": [
  {
   "cell_type": "code",
   "execution_count": 100,
   "metadata": {},
   "outputs": [],
   "source": [
    "import numpy as np\n",
    "from matplotlib import pyplot as plt\n",
    "import pandas as pd\n",
    "import seaborn as sns"
   ]
  },
  {
   "cell_type": "code",
   "execution_count": 101,
   "metadata": {},
   "outputs": [],
   "source": [
    "data = pd.read_csv(\"/Users/kadenhyatt/Desktop/SoscData/SOSC 13300 Severson and Coleman Extension Survey_April 22, 2024_09.12.csv\")"
   ]
  },
  {
   "cell_type": "code",
   "execution_count": 102,
   "metadata": {},
   "outputs": [
    {
     "data": {
      "text/plain": [
       "Index(['StartDate', 'EndDate', 'Status', 'IPAddress', 'Progress',\n",
       "       'Duration (in seconds)', 'Finished', 'RecordedDate', 'ResponseId',\n",
       "       'RecipientLastName', 'RecipientFirstName', 'RecipientEmail',\n",
       "       'ExternalReference', 'LocationLatitude', 'LocationLongitude',\n",
       "       'DistributionChannel', 'UserLanguage', 'InfCons', 'GasTax', 'CarbTax',\n",
       "       'Treaty', 'RegCarb', 'political_views', 'party_id', 'party_id.1',\n",
       "       'party_id.2', 'QID74', 'ScientificConfidence', 'RewardConsequence ',\n",
       "       'Attention_Check_1', 'Religiosity', 'Economic_Reasoning',\n",
       "       'Attention_Check_2', 'prosociality_1', 'prosociality_2',\n",
       "       'prosociality_3', 'prosociality_4', 'prosociality_5', 'prosociality_6',\n",
       "       'prosociality_7', 'prosociality_8', 'prosociality_9', 'GasTax_after',\n",
       "       'CarbTax_after', 'Treaty_after', 'RegCarb_after', 'FinalText',\n",
       "       'participantId', 'assignmentId', 'projectId', 'treatment_value',\n",
       "       'Create New Field or Choose From Dropdown...'],\n",
       "      dtype='object')"
      ]
     },
     "execution_count": 102,
     "metadata": {},
     "output_type": "execute_result"
    }
   ],
   "source": [
    "data.columns"
   ]
  },
  {
   "cell_type": "code",
   "execution_count": 103,
   "metadata": {},
   "outputs": [],
   "source": [
    "#drop rows where survey was not completed\n",
    "dataClean = data[data['Finished'] == 'True']\n",
    "\n",
    "#Drop Unnecessary Columns\n",
    "dataClean = data.drop(columns=['StartDate', 'EndDate', 'Status', 'IPAddress', 'Progress', 'RecordedDate', 'ResponseId', 'RecipientLastName',\n",
    "                               'RecipientFirstName', 'RecipientEmail', 'ExternalReference', 'LocationLatitude', 'LocationLongitude', 'DistributionChannel', \n",
    "                               'InfCons', 'participantId', 'assignmentId', 'projectId'])\n",
    "\n",
    "#dropping first and 2nd rows\n",
    "dataClean = dataClean.drop([0, 1]).reset_index()\n",
    "\n",
    "#drop rows where participant failed attention check\n",
    "dataClean = dataClean[dataClean['Attention_Check_1'] == 'Strongly like']\n",
    "dataClean = dataClean[dataClean['Attention_Check_2'] == '1,3']"
   ]
  },
  {
   "cell_type": "code",
   "execution_count": 104,
   "metadata": {},
   "outputs": [],
   "source": [
    "#making complete party_id number (merging party_id columns)\n",
    "\n",
    "#making columns into integers\n",
    "dataClean['QID74'] = dataClean['QID74'].replace(float('nan'), 0).astype(int)\n",
    "dataClean['party_id.1'] = dataClean['party_id.1'].replace(float('nan'), 0).astype(int)\n",
    "dataClean['party_id.2'] = dataClean['party_id.2'].replace(float('nan'), 0).astype(int)\n",
    "\n",
    "dataClean['party_id_merged'] = dataClean['QID74'] + dataClean['party_id.1'] + dataClean['party_id.2']"
   ]
  },
  {
   "cell_type": "code",
   "execution_count": 107,
   "metadata": {},
   "outputs": [
    {
     "data": {
      "text/plain": [
       "0     3\n",
       "1     2\n",
       "2     0\n",
       "3     4\n",
       "4     1\n",
       "5     1\n",
       "7     3\n",
       "8     2\n",
       "9     0\n",
       "10    0\n",
       "Name: party_id_merged, dtype: int64"
      ]
     },
     "execution_count": 107,
     "metadata": {},
     "output_type": "execute_result"
    }
   ],
   "source": [
    "dataClean['party_id_merged'].head(10)\n"
   ]
  },
  {
   "cell_type": "code",
   "execution_count": 106,
   "metadata": {},
   "outputs": [
    {
     "name": "stdout",
     "output_type": "stream",
     "text": [
      "0\n"
     ]
    }
   ],
   "source": []
  },
  {
   "cell_type": "code",
   "execution_count": null,
   "metadata": {},
   "outputs": [],
   "source": []
  }
 ],
 "metadata": {
  "kernelspec": {
   "display_name": "Python 3",
   "language": "python",
   "name": "python3"
  },
  "language_info": {
   "codemirror_mode": {
    "name": "ipython",
    "version": 3
   },
   "file_extension": ".py",
   "mimetype": "text/x-python",
   "name": "python",
   "nbconvert_exporter": "python",
   "pygments_lexer": "ipython3",
   "version": "3.9.6"
  }
 },
 "nbformat": 4,
 "nbformat_minor": 2
}
